{
 "cells": [
  {
   "cell_type": "code",
   "execution_count": 1,
   "metadata": {},
   "outputs": [],
   "source": [
    "import glob\n",
    "import pandas as pd"
   ]
  },
  {
   "cell_type": "code",
   "execution_count": 2,
   "metadata": {},
   "outputs": [
    {
     "name": "stderr",
     "output_type": "stream",
     "text": [
      "C:\\Users\\Jeevs\\Anaconda3\\envs\\Pandas\\lib\\site-packages\\ipykernel_launcher.py:1: FutureWarning: Sorting because non-concatenation axis is not aligned. A future version\n",
      "of pandas will change to not sort by default.\n",
      "\n",
      "To accept the future behavior, pass 'sort=False'.\n",
      "\n",
      "To retain the current behavior and silence the warning, pass 'sort=True'.\n",
      "\n",
      "  \"\"\"Entry point for launching an IPython kernel.\n"
     ]
    }
   ],
   "source": [
    "allmembershipdata = pd.concat([pd.read_csv(f) for f in glob.glob('raw_data/membershipdata/*.csv')], ignore_index = True)\n",
    "alltripdata = pd.concat([pd.read_csv(f) for f in glob.glob('raw_data/tripdata/*.csv')], ignore_index = True)"
   ]
  },
  {
   "cell_type": "code",
   "execution_count": 3,
   "metadata": {},
   "outputs": [
    {
     "data": {
      "text/plain": [
       "24-Hour Passes Purchased (midnight to 11:59 pm)       366\n",
       "3-Day Passes Purchased (midnight to 11:59 pm)         275\n",
       "7-Day Passes Purchased (midnight to 11:59 pm)         182\n",
       "Cumulative trips (since launch):                      366\n",
       "Date                                                  366\n",
       "Miles traveled to date:                               366\n",
       "Miles traveled today (midnight to 11:59 pm)           366\n",
       "Total Annual Members (All Time)                       366\n",
       "Trips over the past 24-hours (midnight to 11:59pm)    366\n",
       "dtype: int64"
      ]
     },
     "execution_count": 3,
     "metadata": {},
     "output_type": "execute_result"
    }
   ],
   "source": [
    "allmembershipdata.head()\n",
    "allmembershipdata.count()"
   ]
  },
  {
   "cell_type": "code",
   "execution_count": 4,
   "metadata": {},
   "outputs": [
    {
     "data": {
      "text/plain": [
       "Trip Duration              247584\n",
       "Start Time                 247584\n",
       "Stop Time                  247584\n",
       "Start Station ID           247584\n",
       "Start Station Name         247584\n",
       "Start Station Latitude     247584\n",
       "Start Station Longitude    247584\n",
       "End Station ID             247584\n",
       "End Station Name           247584\n",
       "End Station Latitude       247584\n",
       "End Station Longitude      247584\n",
       "Bike ID                    247584\n",
       "User Type                  247204\n",
       "Birth Year                 228585\n",
       "Gender                     247584\n",
       "dtype: int64"
      ]
     },
     "execution_count": 4,
     "metadata": {},
     "output_type": "execute_result"
    }
   ],
   "source": [
    "alltripdata.head()\n",
    "alltripdata.count()"
   ]
  },
  {
   "cell_type": "code",
   "execution_count": 5,
   "metadata": {},
   "outputs": [],
   "source": [
    "#export combined csvs\n",
    "allmembershipdata.to_csv('clean_data/clean_membership_2018.csv')\n",
    "alltripdata.to_csv('clean_data/clean_tripdata_2018.csv')"
   ]
  },
  {
   "cell_type": "code",
   "execution_count": null,
   "metadata": {},
   "outputs": [],
   "source": []
  }
 ],
 "metadata": {
  "file_extension": ".py",
  "kernelspec": {
   "display_name": "Python 3",
   "language": "python",
   "name": "python3"
  },
  "language_info": {
   "codemirror_mode": {
    "name": "ipython",
    "version": 3
   },
   "file_extension": ".py",
   "mimetype": "text/x-python",
   "name": "python",
   "nbconvert_exporter": "python",
   "pygments_lexer": "ipython3",
   "version": "3.6.8"
  },
  "mimetype": "text/x-python",
  "name": "python",
  "npconvert_exporter": "python",
  "pygments_lexer": "ipython3",
  "version": 3
 },
 "nbformat": 4,
 "nbformat_minor": 2
}
